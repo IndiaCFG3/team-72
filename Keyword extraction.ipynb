{
 "cells": [
  {
   "cell_type": "code",
   "execution_count": 11,
   "metadata": {},
   "outputs": [],
   "source": [
    "import pandas as pd\n",
    "import re\n",
    "from sklearn.feature_extraction.text import CountVectorizer, TfidfTransformer\n",
    "from nltk.corpus import stopwords\n",
    "stopwords = stopwords.words('english')"
   ]
  },
  {
   "cell_type": "code",
   "execution_count": 17,
   "metadata": {},
   "outputs": [
    {
     "data": {
      "text/html": [
       "<div>\n",
       "<style scoped>\n",
       "    .dataframe tbody tr th:only-of-type {\n",
       "        vertical-align: middle;\n",
       "    }\n",
       "\n",
       "    .dataframe tbody tr th {\n",
       "        vertical-align: top;\n",
       "    }\n",
       "\n",
       "    .dataframe thead th {\n",
       "        text-align: right;\n",
       "    }\n",
       "</style>\n",
       "<table border=\"1\" class=\"dataframe\">\n",
       "  <thead>\n",
       "    <tr style=\"text-align: right;\">\n",
       "      <th></th>\n",
       "      <th>news</th>\n",
       "    </tr>\n",
       "  </thead>\n",
       "  <tbody>\n",
       "    <tr>\n",
       "      <th>0</th>\n",
       "      <td>Alia Bhatt, Aditya Roy Kapur and Sanjay Dutt s...</td>\n",
       "    </tr>\n",
       "    <tr>\n",
       "      <th>1</th>\n",
       "      <td>Following MS Dhoni's retirement from internati...</td>\n",
       "    </tr>\n",
       "  </tbody>\n",
       "</table>\n",
       "</div>"
      ],
      "text/plain": [
       "                                                news\n",
       "0  Alia Bhatt, Aditya Roy Kapur and Sanjay Dutt s...\n",
       "1  Following MS Dhoni's retirement from internati..."
      ]
     },
     "execution_count": 17,
     "metadata": {},
     "output_type": "execute_result"
    }
   ],
   "source": [
    "z = pd.DataFrame({'news': [\"Alia Bhatt, Aditya Roy Kapur and Sanjay Dutt starrer 'Sadak 2' trailer has become the third most disliked YouTube video in the world, amid nepotism debate. So far, it has received 10 million dislikes and is behind Justin Bieber's song 'Baby' (11 million dislikes) and YouTube Rewind 2018 (18 million dislikes). The trailer of the film was released on Wednesday.\",\"Following MS Dhoni's retirement from international cricket, actor Ranveer Singh took to Instagram and shared throwback pictures of himself with Dhoni and revealed he took an ad job when he was around 22 years old only because it featured Dhoni.he wrote.\"] })\n",
    "z"
   ]
  },
  {
   "cell_type": "code",
   "execution_count": 18,
   "metadata": {},
   "outputs": [],
   "source": [
    "def pre_process(text):\n",
    "    text = text.lower()\n",
    "    text = re.sub('&lt;/?.*?&gt', '&lt;&gt', text)\n",
    "    text = re.sub(\"(\\\\d|\\\\W)+\", \" \", text)\n",
    "    return text"
   ]
  },
  {
   "cell_type": "code",
   "execution_count": 19,
   "metadata": {},
   "outputs": [],
   "source": [
    "z['news'] = z['news'].apply(lambda x: pre_process(x))"
   ]
  },
  {
   "cell_type": "code",
   "execution_count": 21,
   "metadata": {},
   "outputs": [
    {
     "data": {
      "text/plain": [
       "['alia bhatt aditya roy kapur and sanjay dutt starrer sadak trailer has become the third most disliked youtube video in the world amid nepotism debate so far it has received million dislikes and is behind justin bieber s song baby million dislikes and youtube rewind million dislikes the trailer of the film was released on wednesday ',\n",
       " 'following ms dhoni s retirement from international cricket actor ranveer singh took to instagram and shared throwback pictures of himself with dhoni and revealed he took an ad job when he was around years old only because it featured dhoni he wrote ']"
      ]
     },
     "execution_count": 21,
     "metadata": {},
     "output_type": "execute_result"
    }
   ],
   "source": [
    "docs = z['news'].tolist()\n",
    "docs"
   ]
  },
  {
   "cell_type": "code",
   "execution_count": 22,
   "metadata": {},
   "outputs": [],
   "source": [
    "#preprocessed_text = pre_process(text)\n",
    "cv = CountVectorizer(max_df=0.85, stop_words=stopwords, max_features=10000)\n",
    "word_count_vector = cv.fit_transform(docs)"
   ]
  },
  {
   "cell_type": "code",
   "execution_count": 23,
   "metadata": {},
   "outputs": [
    {
     "data": {
      "text/plain": [
       "TfidfTransformer()"
      ]
     },
     "execution_count": 23,
     "metadata": {},
     "output_type": "execute_result"
    }
   ],
   "source": [
    "tfidf_transformer = TfidfTransformer(smooth_idf=True, use_idf=True)\n",
    "tfidf_transformer.fit(word_count_vector)"
   ]
  },
  {
   "cell_type": "code",
   "execution_count": 24,
   "metadata": {},
   "outputs": [],
   "source": [
    "def sort_coo(coo_matrix):\n",
    "    tuples = zip(coo_matrix.col, coo_matrix.data)\n",
    "    return sorted(tuples, key=lambda x: (x[1], x[0]), reverse=True)"
   ]
  },
  {
   "cell_type": "code",
   "execution_count": 25,
   "metadata": {},
   "outputs": [],
   "source": [
    "def extract_topn_from_vector(feature_names, sorted_items, topn=10):\n",
    "    sorted_items = sorted_items[:topn]\n",
    "    score_vals, feature_vals = [], []\n",
    "    for idx, score in sorted_items:\n",
    "        score_vals.append(round(score, 3))\n",
    "        feature_vals.append(feature_names[idx])\n",
    "        \n",
    "    results = {}\n",
    "    for idx in range(len(feature_vals)):\n",
    "        results[feature_vals[idx]] = score_vals[idx]\n",
    "    return results"
   ]
  },
  {
   "cell_type": "code",
   "execution_count": 27,
   "metadata": {},
   "outputs": [
    {
     "data": {
      "text/plain": [
       "{'million': 0.408,\n",
       " 'dislikes': 0.408,\n",
       " 'youtube': 0.272,\n",
       " 'trailer': 0.272,\n",
       " 'world': 0.136,\n",
       " 'wednesday': 0.136,\n",
       " 'video': 0.136,\n",
       " 'third': 0.136,\n",
       " 'starrer': 0.136,\n",
       " 'song': 0.136}"
      ]
     },
     "execution_count": 27,
     "metadata": {},
     "output_type": "execute_result"
    }
   ],
   "source": [
    "feature_names = cv.get_feature_names()\n",
    "doc = docs[0]\n",
    "tf_idf_vector = tfidf_transformer.fit_transform(cv.transform([doc]))\n",
    "sorted_items = sort_coo(tf_idf_vector.tocoo())\n",
    "keywords = extract_topn_from_vector(feature_names, sorted_items)\n",
    "keywords"
   ]
  },
  {
   "cell_type": "code",
   "execution_count": null,
   "metadata": {},
   "outputs": [],
   "source": []
  }
 ],
 "metadata": {
  "kernelspec": {
   "display_name": "Python 3",
   "language": "python",
   "name": "python3"
  },
  "language_info": {
   "codemirror_mode": {
    "name": "ipython",
    "version": 3
   },
   "file_extension": ".py",
   "mimetype": "text/x-python",
   "name": "python",
   "nbconvert_exporter": "python",
   "pygments_lexer": "ipython3",
   "version": "3.7.7"
  }
 },
 "nbformat": 4,
 "nbformat_minor": 4
}
